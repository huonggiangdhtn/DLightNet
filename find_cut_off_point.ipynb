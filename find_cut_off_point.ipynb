{
 "cells": [
  {
   "cell_type": "code",
   "execution_count": 3,
   "metadata": {},
   "outputs": [],
   "source": [
    "from scipy.signal import convolve2d\n",
    "import cv2\n",
    "import numpy as np\n",
    "\n",
    "def multi_convolver(image, kernel):\n",
    "    \n",
    "    image = convolve2d(image, kernel, 'same', boundary = 'fill',\n",
    "                           fillvalue = 0)\n",
    "    return image\n",
    "\n",
    "\n",
    "def larger_image(lables,n = 11):\n",
    "  k = np.ones((n,n))\n",
    "  image1  = multi_convolver(lables, k)\n",
    "  layer_bool_large = np.zeros(image1.shape)\n",
    "  layer_bool_large[image1 > 0.00] = 1\n",
    "  return layer_bool_large\n",
    "def colorize(img):\n",
    "   \n",
    "    l=np.zeros((480,640,3))\n",
    "    l = l.astype(np.uint8)\n",
    "    stemp = l[:,:,0]\n",
    "    #stemp[img == 0] = 0\n",
    "    stemp[img == 1] = 128\n",
    "    stemp[img == 2] = 0\n",
    "    stemp[img == 3] = 160\n",
    "    stemp[img == 4] = 0\n",
    "    stemp[img == 9] = 255\n",
    "    stemp[img == 10] = 0\n",
    "    l[:,:,0] = stemp\n",
    "\n",
    "    stemp = l[:,:,1]\n",
    "   # stemp[img == 0] = 0\n",
    "    stemp[img == 1] = 64\n",
    "    stemp[img == 2] = 0\n",
    "    stemp[img == 3] = 170\n",
    "    stemp[img == 4] = 255\n",
    "    stemp[img == 9] = 0\n",
    "    stemp[img == 10] = 0\n",
    "    l[:,:,1] = stemp\n",
    "\n",
    "    stemp = l[:,:,2]\n",
    "   # stemp[img == 0] = 0\n",
    "    stemp[img == 1] = 128\n",
    "    stemp[img == 2] = 0\n",
    "    stemp[img == 3] = 250\n",
    "    stemp[img == 4] = 0\n",
    "    stemp[img == 9] = 0\n",
    "    stemp[img == 10] = 255\n",
    "    l[:,:,2] = stemp\n",
    "    #l=np.zeros((n,n2,3))\n",
    "    return l"
   ]
  },
  {
   "cell_type": "code",
   "execution_count": 4,
   "metadata": {},
   "outputs": [],
   "source": [
    "import matplotlib.pyplot as plt"
   ]
  },
  {
   "cell_type": "code",
   "execution_count": 6,
   "metadata": {},
   "outputs": [
    {
     "data": {
      "text/plain": [
       "<matplotlib.image.AxesImage at 0x7fe341b557c0>"
      ]
     },
     "execution_count": 6,
     "metadata": {},
     "output_type": "execute_result"
    },
    {
     "data": {
      "image/png": "[encoded data removed]",
      "text/plain": [
       "<Figure size 432x288 with 1 Axes>"
      ]
     },
     "metadata": {
      "needs_background": "light"
     },
     "output_type": "display_data"
    }
   ],
   "source": [
    "\n",
    "maskn = cv2.imread('/home/isl/pointcloudtwoimage/mask/right1649816639381.png' ,cv2.IMREAD_GRAYSCALE)\n",
    "s_noise = 100\n",
    "stem_noise =240\n",
    "branch_noise = 100\n",
    "mask = maskn.reshape(480,640)\n",
    "n = 480\n",
    "n2 =640\n",
    "\n",
    "#branch layer\n",
    "branchlayer_bool = np.zeros(mask.shape)\n",
    "branchlayer_bool[mask == 3] = 1\n",
    "plt.imshow(branchlayer_bool)"
   ]
  },
  {
   "cell_type": "code",
   "execution_count": 7,
   "metadata": {},
   "outputs": [
    {
     "data": {
      "text/plain": [
       "<matplotlib.image.AxesImage at 0x7fe341578250>"
      ]
     },
     "execution_count": 7,
     "metadata": {},
     "output_type": "execute_result"
    },
    {
     "data": {
      "image/png": "[encoded data removed]",
      "text/plain": [
       "<Figure size 432x288 with 1 Axes>"
      ]
     },
     "metadata": {
      "needs_background": "light"
     },
     "output_type": "display_data"
    }
   ],
   "source": [
    "connectivity = 8 \n",
    "branches = [] #list of branch has area > 30\n",
    "branch_region  =  np.array(branchlayer_bool*255, dtype= np.uint8)\n",
    "retval_branch, labels_branch, stats_branch, centroid_branch = cv2.connectedComponentsWithStats(branch_region, connectivity, cv2.CV_32S  )\n",
    "Saturation_number =branch_noise #estimate through pratice\n",
    "\n",
    "#stats_suckers at colum 4 is area\n",
    "for s in range(1,len(stats_branch)):\n",
    "    if stats_branch[s,4] <= Saturation_number:\n",
    "      labels_branch[labels_branch == s] = 0\n",
    "    else:\n",
    "     branches.append((stats_branch[s,0:4],s))  \n",
    "branchlayer_bool[labels_branch == 0] = 0\n",
    "plt.imshow(branchlayer_bool)\n"
   ]
  },
  {
   "cell_type": "code",
   "execution_count": 8,
   "metadata": {},
   "outputs": [
    {
     "data": {
      "text/plain": [
       "<matplotlib.image.AxesImage at 0x7fe3414cf310>"
      ]
     },
     "execution_count": 8,
     "metadata": {},
     "output_type": "execute_result"
    },
    {
     "data": {
      "image/png": "[encoded data removed]",
      "text/plain": [
       "<Figure size 432x288 with 1 Axes>"
      ]
     },
     "metadata": {
      "needs_background": "light"
     },
     "output_type": "display_data"
    }
   ],
   "source": [
    "\n",
    "suckerlayer_bool = np.zeros(mask.shape)\n",
    "suckerlayer_bool[mask == 4] = 1\n",
    "\n",
    "#delete sucker noise\n",
    "connectivity = 8 \n",
    "sucker_region  =  np.array(suckerlayer_bool*255, dtype= np.uint8)\n",
    "retval_sucker, labels_sucker, stats_sucker, centroid_suckers = cv2.connectedComponentsWithStats(sucker_region, connectivity, cv2.CV_32S  )\n",
    "Saturation_number =s_noise\n",
    "suckers = [] #list of sucker has area > 30\n",
    "#stats_suckers at colum 4 is area\n",
    "for s in range(1,len(stats_sucker)):\n",
    "    if stats_sucker[s,4] <= Saturation_number:\n",
    "      labels_sucker[labels_sucker == s] = 0\n",
    "    else:\n",
    "      suckers.append((stats_sucker[s,0:4],s))  \n",
    "suckerlayer_bool[labels_sucker == 0] = 0\n",
    "plt.imshow(suckerlayer_bool)"
   ]
  },
  {
   "cell_type": "code",
   "execution_count": 9,
   "metadata": {},
   "outputs": [
    {
     "data": {
      "text/plain": [
       "<matplotlib.image.AxesImage at 0x7fe34149d5b0>"
      ]
     },
     "execution_count": 9,
     "metadata": {},
     "output_type": "execute_result"
    },
    {
     "data": {
      "image/png": "[encoded data removed]",
      "text/plain": [
       "<Figure size 432x288 with 1 Axes>"
      ]
     },
     "metadata": {
      "needs_background": "light"
     },
     "output_type": "display_data"
    }
   ],
   "source": [
    "stemlayer_bool = np.zeros(mask.shape)\n",
    "stemlayer_bool[mask == 1] = 1\n",
    "connectivity = 8 \n",
    "stem_region  =  np.array(stemlayer_bool*255, dtype= np.uint8)\n",
    "retval_stem, labels_stem, stats_stem, centroid_stem = cv2.connectedComponentsWithStats(stem_region, connectivity, cv2.CV_32S  )\n",
    "Saturation_number = stem_noise\n",
    "# stems = [] #list of stem has area > 60\n",
    "#stats_stem at colum 4 is area\n",
    "for s in range(1,len(stats_stem)):\n",
    "    if stats_stem[s,4] <= Saturation_number:\n",
    "      labels_stem[labels_stem == s] = 0\n",
    "#    else:\n",
    "#      stems.append((stats_stem[s,0:4],s))  \n",
    "stemlayer_bool[labels_stem == 0] = 0\n",
    "plt.imshow(stemlayer_bool)"
   ]
  },
  {
   "cell_type": "code",
   "execution_count": 10,
   "metadata": {},
   "outputs": [
    {
     "data": {
      "text/plain": [
       "<matplotlib.image.AxesImage at 0x7fe34146b340>"
      ]
     },
     "execution_count": 10,
     "metadata": {},
     "output_type": "execute_result"
    },
    {
     "data": {
      "image/png": "[encoded data removed]",
      "text/plain": [
       "<Figure size 432x288 with 1 Axes>"
      ]
     },
     "metadata": {
      "needs_background": "light"
     },
     "output_type": "display_data"
    }
   ],
   "source": [
    "\n",
    "#----------------- enlarge stem and branch each layer\n",
    "branchlayer_bool_large = larger_image (branchlayer_bool)\n",
    "stemlayer_bool_large = larger_image(stemlayer_bool)\n",
    "\n",
    "merge_b_s_f = branchlayer_bool_large + stemlayer_bool_large \n",
    "plt.imshow(merge_b_s_f)"
   ]
  },
  {
   "cell_type": "code",
   "execution_count": 11,
   "metadata": {},
   "outputs": [
    {
     "data": {
      "text/plain": [
       "<matplotlib.image.AxesImage at 0x7fe34143d310>"
      ]
     },
     "execution_count": 11,
     "metadata": {},
     "output_type": "execute_result"
    },
    {
     "data": {
      "image/png": "[encoded data removed]",
      "text/plain": [
       "<Figure size 432x288 with 1 Axes>"
      ]
     },
     "metadata": {
      "needs_background": "light"
     },
     "output_type": "display_data"
    }
   ],
   "source": [
    "#find intersection\n",
    "\n",
    "intersection_bool = np.zeros((n,n2))\n",
    "intersection_bool[merge_b_s_f == 2] = 1\n",
    "plt.imshow(intersection_bool)"
   ]
  },
  {
   "cell_type": "code",
   "execution_count": null,
   "metadata": {},
   "outputs": [],
   "source": []
  },
  {
   "cell_type": "code",
   "execution_count": 12,
   "metadata": {},
   "outputs": [
    {
     "name": "stdout",
     "output_type": "stream",
     "text": [
      "nbranhce 7\n"
     ]
    }
   ],
   "source": [
    "\n",
    "#seprate branche\n",
    "#-----------------\n",
    "n_branch = len(branches)\n",
    "list_branches = np.zeros((n_branch,n,n2,1))\n",
    "for i in range(0,n_branch):\n",
    "  branch=branches[i]\n",
    "  l_branch = np.zeros((n,n2,1))\n",
    "#   true_branch = np.zeros((n,n2,1))\n",
    "  l_branch[labels_branch == branch[1]] = 1  #forklayer get value 1\n",
    "#   true_sucker= merge_b_s_f + l_branch\n",
    "  # if true_sucker.max() == 4: # only forklayer have intersection area\n",
    "  list_branches[i,:,:] = l_branch\n",
    "\n",
    "print('nbranhce',n_branch )\n"
   ]
  },
  {
   "cell_type": "code",
   "execution_count": 27,
   "metadata": {},
   "outputs": [
    {
     "data": {
      "text/plain": [
       "<matplotlib.image.AxesImage at 0x7fe29a8fca60>"
      ]
     },
     "execution_count": 27,
     "metadata": {},
     "output_type": "execute_result"
    },
    {
     "data": {
      "image/png": "[encoded data removed]",
      "text/plain": [
       "<Figure size 432x288 with 1 Axes>"
      ]
     },
     "metadata": {
      "needs_background": "light"
     },
     "output_type": "display_data"
    }
   ],
   "source": [
    "intersection_layer_large = larger_image(intersection_bool,20) #make intersection region bigger\n",
    "plt.imshow(intersection_layer_large)"
   ]
  },
  {
   "cell_type": "code",
   "execution_count": 26,
   "metadata": {},
   "outputs": [
    {
     "data": {
      "text/plain": [
       "<matplotlib.image.AxesImage at 0x7fe29a94e2e0>"
      ]
     },
     "execution_count": 26,
     "metadata": {},
     "output_type": "execute_result"
    },
    {
     "data": {
      "image/png": "[encoded data removed]",
      "text/plain": [
       "<Figure size 432x288 with 1 Axes>"
      ]
     },
     "metadata": {
      "needs_background": "light"
     },
     "output_type": "display_data"
    }
   ],
   "source": [
    "intersection_layer_large = larger_image(intersection_bool,20) #make intersection region bigger\n",
    "# intersection_layer_large = intersection_layer_large.reshape((n,n2,1))\n",
    "intersection_bool_final = np.zeros((n,n2))\n",
    "sum_layer = intersection_layer_large + branchlayer_bool\n",
    "plt.imshow(sum_layer)"
   ]
  },
  {
   "cell_type": "code",
   "execution_count": 13,
   "metadata": {},
   "outputs": [
    {
     "name": "stdout",
     "output_type": "stream",
     "text": [
      "removed  branch  1\n",
      "removed  branch  6\n"
     ]
    },
    {
     "data": {
      "text/plain": [
       "<matplotlib.image.AxesImage at 0x7fe2b0aca730>"
      ]
     },
     "execution_count": 13,
     "metadata": {},
     "output_type": "execute_result"
    },
    {
     "data": {
      "image/png": "[encoded data removed]",
      "text/plain": [
       "<Figure size 432x288 with 1 Axes>"
      ]
     },
     "metadata": {
      "needs_background": "light"
     },
     "output_type": "display_data"
    }
   ],
   "source": [
    " #---------\n",
    "intersection_layer_large = larger_image(intersection_bool,20) #make intersection region bigger\n",
    "intersection_bool_final = np.zeros((n,n2,1))\n",
    "for j in range(0,n_branch):\n",
    "    branch_layer = list_branches[j,:,:]\n",
    "    \n",
    "\n",
    "    intersection_layer_large = intersection_layer_large.reshape((n,n2,1))\n",
    "    sum_layer = intersection_layer_large + branch_layer\n",
    "    # if(j == 6):\n",
    "    #     plt.imshow(sum_layer)\n",
    "\n",
    "    if np.count_nonzero(sum_layer==2)< 30:\n",
    "        print(\"removed  branch \", j)\n",
    "        branch_layer[branch_layer == 1] = 0\n",
    "        list_branches[j,:,:] = branch_layer\n",
    "    else:\n",
    "        intersection_bool_final[sum_layer == 2] = 1\n",
    "    \n",
    "branch_bool = np.zeros((n,n2))\n",
    "for j in range(0,n_branch):\n",
    "    branch_bool = branch_bool + list_branches[j,:,:].reshape(n,n2)\n",
    "\n",
    "plt.imshow(branch_bool)"
   ]
  },
  {
   "cell_type": "code",
   "execution_count": 24,
   "metadata": {},
   "outputs": [
    {
     "data": {
      "text/plain": [
       "<matplotlib.image.AxesImage at 0x7fe29a9ce820>"
      ]
     },
     "execution_count": 24,
     "metadata": {},
     "output_type": "execute_result"
    },
    {
     "data": {
      "image/png": "[encoded data removed]",
      "text/plain": [
       "<Figure size 432x288 with 1 Axes>"
      ]
     },
     "metadata": {
      "needs_background": "light"
     },
     "output_type": "display_data"
    }
   ],
   "source": [
    "plt.imshow(intersection_bool_final.reshape(480,640))"
   ]
  },
  {
   "cell_type": "code",
   "execution_count": 15,
   "metadata": {},
   "outputs": [
    {
     "data": {
      "text/plain": [
       "<matplotlib.image.AxesImage at 0x7fe29b2dee20>"
      ]
     },
     "execution_count": 15,
     "metadata": {},
     "output_type": "execute_result"
    },
    {
     "data": {
      "image/png": "[encoded data removed]",
      "text/plain": [
       "<Figure size 432x288 with 1 Axes>"
      ]
     },
     "metadata": {
      "needs_background": "light"
     },
     "output_type": "display_data"
    }
   ],
   "source": [
    "#find intersection sucker branch stem\n",
    "#----------------- enlarge stem and branch each layer\n",
    "suckerlayer_bool_large = larger_image (suckerlayer_bool)\n",
    "\n",
    "merge_sucker = branchlayer_bool_large + stemlayer_bool_large +suckerlayer_bool_large\n",
    "plt.imshow(merge_sucker)"
   ]
  },
  {
   "cell_type": "code",
   "execution_count": 16,
   "metadata": {},
   "outputs": [
    {
     "data": {
      "text/plain": [
       "<matplotlib.image.AxesImage at 0x7fe29b2ab550>"
      ]
     },
     "execution_count": 16,
     "metadata": {},
     "output_type": "execute_result"
    },
    {
     "data": {
      "image/png": "[encoded data removed]",
      "text/plain": [
       "<Figure size 432x288 with 1 Axes>"
      ]
     },
     "metadata": {
      "needs_background": "light"
     },
     "output_type": "display_data"
    }
   ],
   "source": [
    "#find intersection\n",
    "\n",
    "s_intersection_bool = np.zeros((n,n2))\n",
    "s_intersection_bool[merge_sucker == 3] = 1\n",
    "\n",
    "s_intersection_bool = larger_image(s_intersection_bool,20) #make intersection region bigger\n",
    "plt.imshow(s_intersection_bool)"
   ]
  },
  {
   "cell_type": "code",
   "execution_count": 17,
   "metadata": {},
   "outputs": [],
   "source": [
    "#separate s_itersection\n",
    "connectivity = 8 \n",
    "s_intersection_region  =  np.array(s_intersection_bool*255, dtype= np.uint8)\n",
    "retval_intersection, labels_intersection, stats_intersection, centroid_intersection = cv2.connectedComponentsWithStats(s_intersection_region, connectivity, cv2.CV_32S  )\n",
    "Saturation_number =10\n",
    "intersections = [] #list of intersection has area > 60\n",
    "#stats_intersection at colum 4 is area\n",
    "for s in range(1,len(stats_intersection)):\n",
    "    if stats_intersection[s,4] <= Saturation_number:\n",
    "      labels_intersection[labels_intersection == s] = 0\n",
    "    else:\n",
    "      intersections.append((stats_intersection[s,0:4],s))  \n",
    "\n",
    "n_intersection = len(intersections)\n",
    "list_intersections = np.zeros((n_intersection,n,n2,1))\n",
    "for i in range(0,n_intersection):\n",
    "  intersection = intersections[i]\n",
    "  l_intersection = np.zeros((n,n2,1))\n",
    "  l_intersection[labels_intersection == intersection[1]] = 1  #forklayer get value 1\n",
    "  list_intersections[i,:,:] = l_intersection"
   ]
  },
  {
   "cell_type": "code",
   "execution_count": 18,
   "metadata": {},
   "outputs": [],
   "source": [
    "#-----------------separate suckers\n",
    "n_sucker = len(suckers)\n",
    "list_suckers = np.zeros((n_sucker,n,n2,1))\n",
    "for i in range(0,n_sucker):\n",
    "  sucker=suckers[i]\n",
    "  l_sucker = np.zeros((n,n2,1))\n",
    "  l_sucker[labels_sucker == sucker[1]] = 1  #forklayer get value 1\n",
    "  # if true_sucker.max() == 4: # only forklayer have intersection area\n",
    "  list_suckers[i,:,:] = l_sucker\n",
    "\n",
    "\n"
   ]
  },
  {
   "cell_type": "code",
   "execution_count": 20,
   "metadata": {},
   "outputs": [
    {
     "name": "stdout",
     "output_type": "stream",
     "text": [
      "loi3\n",
      "loi3\n"
     ]
    },
    {
     "data": {
      "image/png": "[encoded data removed]",
      "text/plain": [
       "<Figure size 432x288 with 1 Axes>"
      ]
     },
     "metadata": {
      "needs_background": "light"
     },
     "output_type": "display_data"
    }
   ],
   "source": [
    "#----------\n",
    "sucker_found = np.zeros((n_sucker))\n",
    "intersection_found = np.zeros((n_intersection))\n",
    "list_suckers_intersection = np.zeros((n_sucker,n,n2,1))\n",
    "for i in range(0,n_intersection):\n",
    "  intersection_layer = list_intersections[i,:,:,0]\n",
    "  \n",
    "  #---------\n",
    "  for j in range(0,n_sucker):\n",
    "    sucker_layer = list_suckers[j,:,:]\n",
    "    intersection_layer_large = intersection_layer #cause bigger before\n",
    "    \n",
    "    intersection_layer_large = intersection_layer_large.reshape((n,n2,1))\n",
    "    sum_layer = intersection_layer_large + sucker_layer\n",
    "   \n",
    "    #plt.imshow(sum_layer[:,:,0])\n",
    "    \n",
    "    if np.count_nonzero(sum_layer==2)> 0:\n",
    "      cut_region = np.zeros((n,n2,1))\n",
    "    #  print('timthay')\n",
    "    #  print('suckerfound',sucker_found[j])\n",
    "    #  print('intersection found',intersection_found[i])\n",
    "      sucker_found[j] = sucker_found[j] + 1\n",
    "      intersection_found[i] = intersection_found[i] + 1\n",
    "   #   print('suckerfound',sucker_found[j])\n",
    "    #  print('intersection found',intersection_found[i])\n",
    "      if(sucker_found[j] == 1 and intersection_found[i]==1): #only one sucker on intersection is valid\n",
    "    #    print('tim valid')\n",
    "        cut_region[sum_layer == 2] = 1 #set value for intersection or cutregion\n",
    "      list_suckers_intersection[j,:,:] = cut_region\n",
    "      plt.imshow(sum_layer.reshape(480,640))\n",
    "    else:\n",
    "      print('loi3')\n"
   ]
  },
  {
   "cell_type": "code",
   "execution_count": 22,
   "metadata": {},
   "outputs": [
    {
     "data": {
      "text/plain": [
       "<matplotlib.image.AxesImage at 0x7fe29ab36430>"
      ]
     },
     "execution_count": 22,
     "metadata": {},
     "output_type": "execute_result"
    },
    {
     "data": {
      "image/png": "[encoded data removed]",
      "text/plain": [
       "<Figure size 432x288 with 1 Axes>"
      ]
     },
     "metadata": {
      "needs_background": "light"
     },
     "output_type": "display_data"
    }
   ],
   "source": [
    "sucker_intersection_final = np.zeros((n,n2,1))\n",
    "for j in range(0,n_sucker):\n",
    "    sucker_intersection_final = sucker_intersection_final + list_suckers_intersection[j,:,:]\n",
    "\n",
    "plt.imshow(sucker_intersection_final.reshape(480,640))"
   ]
  },
  {
   "cell_type": "code",
   "execution_count": 23,
   "metadata": {},
   "outputs": [
    {
     "data": {
      "text/plain": [
       "<matplotlib.image.AxesImage at 0x7fe29a9fd280>"
      ]
     },
     "execution_count": 23,
     "metadata": {},
     "output_type": "execute_result"
    },
    {
     "data": {
      "image/png": "[encoded data removed]",
      "text/plain": [
       "<Figure size 432x288 with 1 Axes>"
      ]
     },
     "metadata": {
      "needs_background": "light"
     },
     "output_type": "display_data"
    }
   ],
   "source": [
    "intersection_bool_final = intersection_bool_final.reshape(n,n2)\n",
    "sucker_intersection_final = sucker_intersection_final.reshape(n,n2)\n",
    "mask = np.zeros((n,n2))\n",
    "mask[branch_bool == 1] = 3\n",
    "mask[stemlayer_bool == 1] = 1\n",
    "mask[suckerlayer_bool == 1] = 4\n",
    "mask[intersection_bool_final == 1] = 9\n",
    "mask[sucker_intersection_final == 1] = 10\n",
    "img = colorize(mask)\n",
    "plt.imshow(img)"
   ]
  }
 ],
 "metadata": {
  "interpreter": {
   "hash": "916dbcbb3f70747c44a77c7bcd40155683ae19c65e1c03b4aa3499c5328201f1"
  },
  "kernelspec": {
   "display_name": "Python 3.8.10 64-bit",
   "language": "python",
   "name": "python3"
  },
  "language_info": {
   "codemirror_mode": {
    "name": "ipython",
    "version": 3
   },
   "file_extension": ".py",
   "mimetype": "text/x-python",
   "name": "python",
   "nbconvert_exporter": "python",
   "pygments_lexer": "ipython3",
   "version": "3.8.10"
  },
  "orig_nbformat": 4
 },
 "nbformat": 4,
 "nbformat_minor": 2
}
